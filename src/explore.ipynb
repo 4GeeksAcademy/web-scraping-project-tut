{
 "cells": [
  {
   "cell_type": "markdown",
   "metadata": {},
   "source": [
    "# Explore here\n",
    "\n",
    "It's recommended to use this notebook for exploration purposes."
   ]
  },
  {
   "cell_type": "code",
   "execution_count": 1,
   "metadata": {},
   "outputs": [
    {
     "name": "stdout",
     "output_type": "stream",
     "text": [
      "Tabla 1 exportada a 'tesla_revenue_quarterly.csv'.\n",
      "Tabla 2 exportada a 'tesla_revenue_historical.csv'.\n",
      "Tabla 3 exportada a 'tesla_vs_automakers_revenue.csv'.\n",
      "Tabla 4 exportada a 'tesla_financial_metrics.csv'.\n"
     ]
    },
    {
     "name": "stderr",
     "output_type": "stream",
     "text": [
      "/tmp/ipykernel_4283/2026092034.py:39: FutureWarning: Passing literal html to 'read_html' is deprecated and will be removed in a future version. To read from a literal string, wrap it in a 'StringIO' object.\n",
      "  df = pd.read_html(str(table))[0]\n",
      "/tmp/ipykernel_4283/2026092034.py:39: FutureWarning: Passing literal html to 'read_html' is deprecated and will be removed in a future version. To read from a literal string, wrap it in a 'StringIO' object.\n",
      "  df = pd.read_html(str(table))[0]\n",
      "/tmp/ipykernel_4283/2026092034.py:39: FutureWarning: Passing literal html to 'read_html' is deprecated and will be removed in a future version. To read from a literal string, wrap it in a 'StringIO' object.\n",
      "  df = pd.read_html(str(table))[0]\n",
      "/tmp/ipykernel_4283/2026092034.py:39: FutureWarning: Passing literal html to 'read_html' is deprecated and will be removed in a future version. To read from a literal string, wrap it in a 'StringIO' object.\n",
      "  df = pd.read_html(str(table))[0]\n"
     ]
    }
   ],
   "source": [
    "import os\n",
    "import pandas as pd\n",
    "from bs4 import BeautifulSoup\n",
    "import requests\n",
    "from io import StringIO\n",
    "\n",
    "\n",
    "# URL de la página que queremos scrapear\n",
    "resource_url = \"https://ycharts.com/companies/TSLA/revenues\"\n",
    "\n",
    "# Encabezado para simular un navegador\n",
    "headers = {\n",
    "    'User-Agent': 'Mozilla/5.0 (Windows NT 10.0; Win64; x64) AppleWebKit/537.36 (KHTML, like Gecko) Chrome/87.0.4280.88 Safari/537.36'\n",
    "}\n",
    "\n",
    "# Descargar la página\n",
    "try:\n",
    "    response = requests.get(resource_url, headers=headers)\n",
    "    response.raise_for_status()  # Lanza una excepción si hay un error en la descarga\n",
    "    html_content = response.text\n",
    "\n",
    "    # Crear el objeto BeautifulSoup solo si la descarga fue exitosa\n",
    "    soup = BeautifulSoup(html_content, 'html.parser')\n",
    "\n",
    "    # Encuentra todas las tablas en la página\n",
    "    tables = soup.find_all('table')\n",
    "\n",
    "    # Nombres sugeridos para los archivos CSV\n",
    "    csv_filenames = [\n",
    "        \"tesla_revenue_quarterly.csv\",\n",
    "        \"tesla_revenue_historical.csv\",\n",
    "        \"tesla_vs_automakers_revenue.csv\",\n",
    "        \"tesla_financial_metrics.csv\"\n",
    "    ]\n",
    "\n",
    "    # Procesar y guardar cada tabla\n",
    "    for idx, (table, csv_filename) in enumerate(zip(tables, csv_filenames)):\n",
    "        # Convertir la tabla en un DataFrame de pandas\n",
    "        df = pd.read_html(str(table))[0]\n",
    "        \n",
    "        # Guardar en CSV con nombres sugeridos\n",
    "        df.to_csv(csv_filename, index=False)\n",
    "        print(f\"Tabla {idx + 1} exportada a '{csv_filename}'.\")\n",
    "\n",
    "except requests.exceptions.RequestException as scrap_error:\n",
    "    print(\"Error al descargar la página.\")\n",
    "    print(scrap_error)\n"
   ]
  },
  {
   "cell_type": "code",
   "execution_count": null,
   "metadata": {},
   "outputs": [],
   "source": []
  }
 ],
 "metadata": {
  "kernelspec": {
   "display_name": ".venv",
   "language": "python",
   "name": "python3"
  },
  "language_info": {
   "codemirror_mode": {
    "name": "ipython",
    "version": 3
   },
   "file_extension": ".py",
   "mimetype": "text/x-python",
   "name": "python",
   "nbconvert_exporter": "python",
   "pygments_lexer": "ipython3",
   "version": "3.11.4"
  },
  "orig_nbformat": 4
 },
 "nbformat": 4,
 "nbformat_minor": 2
}
